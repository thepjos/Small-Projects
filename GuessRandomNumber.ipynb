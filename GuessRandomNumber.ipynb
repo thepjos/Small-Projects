{
  "nbformat": 4,
  "nbformat_minor": 0,
  "metadata": {
    "colab": {
      "name": "GuessRandomNumber.ipynb",
      "provenance": [],
      "authorship_tag": "ABX9TyMiWQDyz0sVHGzkt4PMB+7w",
      "include_colab_link": true
    },
    "kernelspec": {
      "name": "python3",
      "display_name": "Python 3"
    },
    "language_info": {
      "name": "python"
    }
  },
  "cells": [
    {
      "cell_type": "markdown",
      "metadata": {
        "id": "view-in-github",
        "colab_type": "text"
      },
      "source": [
        "<a href=\"https://colab.research.google.com/github/thepjos/Small-Projects/blob/main/GuessRandomNumber.ipynb\" target=\"_parent\"><img src=\"https://colab.research.google.com/assets/colab-badge.svg\" alt=\"Open In Colab\"/></a>"
      ]
    },
    {
      "cell_type": "code",
      "execution_count": 3,
      "metadata": {
        "id": "DXDkypTHktAe"
      },
      "outputs": [],
      "source": [
        "# First import randint from the random module\n",
        "from random import randint"
      ]
    },
    {
      "cell_type": "code",
      "source": [
        "# Create function that defines the computer's random number. Range of numbers passed in as arguments\n",
        "def computer_number(min_num, max_num):\n",
        "  return randint(min_num, max_num)\n"
      ],
      "metadata": {
        "id": "if2jeD6GlKzF"
      },
      "execution_count": 29,
      "outputs": []
    },
    {
      "cell_type": "code",
      "source": [
        "computer_number(1,15)\n",
        "print(type(computer_number(1,15)))"
      ],
      "metadata": {
        "colab": {
          "base_uri": "https://localhost:8080/"
        },
        "id": "dpsLD2kAsW7X",
        "outputId": "2bd6d962-964b-4b04-b55a-56a20ff9fe35"
      },
      "execution_count": 30,
      "outputs": [
        {
          "output_type": "stream",
          "name": "stdout",
          "text": [
            "<class 'int'>\n"
          ]
        }
      ]
    },
    {
      "cell_type": "code",
      "source": [
        "# Create funciton that asks for the player's range they want to guess in \n",
        "def player_guess(min_num, max_num):\n",
        "  user_input = int(input(f'Guess a number between {min_num} and {max_num}: '))\n",
        "  return user_input"
      ],
      "metadata": {
        "id": "wQ7m-yv1mChf"
      },
      "execution_count": 31,
      "outputs": []
    },
    {
      "cell_type": "code",
      "source": [
        "# Create the game function\n",
        "# Setup the range with a low and high end to guide the player\n",
        "def play():\n",
        "  low = 1\n",
        "  high = 15\n",
        "\n",
        "# Lock in the computer's number and setup the player's choice \n",
        "  computer_choice = computer_number(low,high)\n",
        "  player_choice = player_guess(low,high)\n",
        "\n",
        "# While loop - If the player is wrong, tell them if they are too high or low and loop back thru. If they are right, congratulate them. \n",
        "\n",
        "  while player_choice != computer_choice:\n",
        "      if player_choice>computer_choice:\n",
        "        player_choice = int(input('Number is too high, try again: '))\n",
        "      \n",
        "      elif player_choice<computer_choice:\n",
        "        player_choice = int(input('Number is too low, try again: '))\n",
        "\n",
        "  print (f'You guessed the correct number, {computer_choice}! Nice work.')\n",
        "\n",
        "play()"
      ],
      "metadata": {
        "colab": {
          "base_uri": "https://localhost:8080/"
        },
        "id": "gbOOdJVnmtrF",
        "outputId": "3fa12748-320d-4b3e-f491-7d30362acf8b"
      },
      "execution_count": 41,
      "outputs": [
        {
          "output_type": "stream",
          "name": "stdout",
          "text": [
            "Guess a number between 1 and 15: 12\n",
            "Number is too low, try again: 13\n",
            "You guessed the correct number, 13! Nice work.\n"
          ]
        }
      ]
    },
    {
      "cell_type": "code",
      "source": [
        ""
      ],
      "metadata": {
        "id": "fEFSLtRMpvnE"
      },
      "execution_count": 38,
      "outputs": []
    },
    {
      "cell_type": "code",
      "source": [
        ""
      ],
      "metadata": {
        "id": "z-2wPCt0r4gl"
      },
      "execution_count": null,
      "outputs": []
    }
  ]
}